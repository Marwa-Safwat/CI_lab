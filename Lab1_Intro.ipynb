{
 "cells": [
  {
   "cell_type": "markdown",
   "metadata": {},
   "source": [
    "# Intro to Python\n",
    "#### windows: anaconda env\n",
    "#### jupyter, sublime, pycharm, spyder, whatever\n",
    "#### Ubuntu: from command line or anacnoda also\n",
    "#### paradigm of Python?\n",
    "#### function,lambda\n",
    "#### loops\n",
    "#### list comprehension\n",
    "#### map, filter, reduce\n",
    "#### numpy arrays, operations\n",
    "#### plotting\n",
    "#### classes\n",
    "#### SA & GA visiting"
   ]
  },
  {
   "cell_type": "code",
   "execution_count": 1,
   "metadata": {},
   "outputs": [
    {
     "name": "stdout",
     "output_type": "stream",
     "text": [
      "6\n",
      "6\n"
     ]
    }
   ],
   "source": [
    "def f(n):\n",
    "    return n+1\n",
    "\n",
    "#default value?\n",
    "def f(n=5):\n",
    "    return n+1\n",
    "\n",
    "print(f(5))\n",
    "\n",
    "x=lambda n:n+1\n",
    "print(x(5))"
   ]
  },
  {
   "cell_type": "code",
   "execution_count": 2,
   "metadata": {},
   "outputs": [
    {
     "name": "stdout",
     "output_type": "stream",
     "text": [
      "1\n",
      "2\n",
      "3\n",
      "1\n",
      "2\n",
      "3\n"
     ]
    }
   ],
   "source": [
    "#looping\n",
    "m=[1,2,3]\n",
    "for i in range(len(m)):\n",
    "    print(m[i])\n",
    "    \n",
    "for i in m:\n",
    "    print(i)"
   ]
  },
  {
   "cell_type": "code",
   "execution_count": 3,
   "metadata": {},
   "outputs": [
    {
     "name": "stdout",
     "output_type": "stream",
     "text": [
      "n is : 1\n"
     ]
    }
   ],
   "source": [
    "#condition\n",
    "n=1\n",
    "x=5\n",
    "\n",
    "if n == 1 or x==5:\n",
    "    print(\"n is :\",n)\n",
    "else:\n",
    "    print(\"n is not 1\")"
   ]
  },
  {
   "cell_type": "code",
   "execution_count": 4,
   "metadata": {},
   "outputs": [
    {
     "name": "stdout",
     "output_type": "stream",
     "text": [
      "[0, 1, 2, 3, 4]\n",
      "[0, 1, 2, 3, 4]\n",
      "0\n",
      "4\n",
      "[1, 2]\n"
     ]
    }
   ],
   "source": [
    "#want to create sequence?\n",
    "ls=[]\n",
    "for i in range(5):\n",
    "    ls.append(i)\n",
    "    \n",
    "print(ls)\n",
    "\n",
    "#how to do it in another way?\n",
    "#that's list comprehension\n",
    "ls=[i for i in range(5)]\n",
    "print(ls)\n",
    "\n",
    "#how to access list?\n",
    "#first element\n",
    "print(ls[0])\n",
    "print(ls[-1])\n",
    "print(ls[1:3])"
   ]
  },
  {
   "cell_type": "code",
   "execution_count": 5,
   "metadata": {},
   "outputs": [
    {
     "name": "stdout",
     "output_type": "stream",
     "text": [
      "5\n",
      "10\n",
      "10\n",
      "{1, 2, 3, 5}\n"
     ]
    }
   ],
   "source": [
    "#tuples, lists, dict, set\n",
    "a=()\n",
    "a=[]\n",
    "d={'1':5}\n",
    "print(d['1'])\n",
    "\n",
    "ls=[1,2,7]\n",
    "#want to sum?\n",
    "s=0\n",
    "for i in range(len(ls)):\n",
    "    s=s+ls[i]\n",
    "    \n",
    "print(s)\n",
    "print(sum(ls))\n",
    "\n",
    "\n",
    "#sets\n",
    "s=set([1,2,3,1,5])\n",
    "print(s)"
   ]
  },
  {
   "cell_type": "code",
   "execution_count": 6,
   "metadata": {},
   "outputs": [
    {
     "name": "stdout",
     "output_type": "stream",
     "text": [
      "[2, 4, 6]\n"
     ]
    }
   ],
   "source": [
    "ls=[1,2,3]\n",
    "x=lambda n:n+n\n",
    "y=lambda n:n*n\n",
    "\n",
    "print(list(map(x,ls)))\n",
    "#check reduce, filter"
   ]
  },
  {
   "cell_type": "code",
   "execution_count": 7,
   "metadata": {},
   "outputs": [
    {
     "name": "stdout",
     "output_type": "stream",
     "text": [
      "[5. 5. 5. 5. 5.]\n",
      "[0.28366219 0.28366219 0.28366219 0.28366219 0.28366219]\n",
      "3.141592653589793\n",
      "(5,)\n",
      "2\n"
     ]
    }
   ],
   "source": [
    "#arrays\n",
    "import numpy as np\n",
    "#how to create array?\n",
    "#one way\n",
    "x=[]*5\n",
    "x=np.zeros((5))\n",
    "x=np.ones((5))\n",
    "x=x*5\n",
    "print(x)\n",
    "\n",
    "#math functions\n",
    "print(np.cos(x))\n",
    "print(np.pi)\n",
    "\n",
    "#dim?\n",
    "print(x.shape)\n",
    "\n",
    "#count nonzero\n",
    "ls=[0,0,0,0,5,1]\n",
    "print(np.count_nonzero(ls))\n",
    "\n",
    "#want to create range but without specifying each point\n",
    "#np.linspace"
   ]
  },
  {
   "cell_type": "code",
   "execution_count": 8,
   "metadata": {},
   "outputs": [
    {
     "data": {
      "image/png": "[encoded data removed]",
      "text/plain": [
       "<Figure size 432x288 with 1 Axes>"
      ]
     },
     "metadata": {},
     "output_type": "display_data"
    }
   ],
   "source": [
    "#graphs\n",
    "import matplotlib.pyplot as plt\n",
    "x=np.arange(1,10,1)\n",
    "y=2*x\n",
    "\n",
    "plt.plot(x,y)\n",
    "plt.show()"
   ]
  },
  {
   "cell_type": "code",
   "execution_count": 9,
   "metadata": {},
   "outputs": [
    {
     "name": "stdout",
     "output_type": "stream",
     "text": [
      "0.14410963300667556\n",
      "2\n",
      "[[0.32783577 0.161543   0.79029763 0.96893538 0.10701708]\n",
      " [0.39285663 0.25957027 0.92432776 0.37055453 0.99060929]\n",
      " [0.43179845 0.58552625 0.31035463 0.15061336 0.00940405]\n",
      " [0.62955854 0.20337643 0.98492103 0.11534685 0.35559561]\n",
      " [0.95522777 0.18415117 0.12360361 0.33182697 0.02096588]]\n"
     ]
    }
   ],
   "source": [
    "#random\n",
    "import random as rand\n",
    "print(rand.random())\n",
    "print(np.random.randint(1,10))\n",
    "\n",
    "print(np.random.rand(5,5))\n",
    "\n",
    "#what's seed of random?\n",
    "#random.seed(5)"
   ]
  },
  {
   "cell_type": "markdown",
   "metadata": {},
   "source": [
    "# Now create a list [2,4,6,8] either by loop or list comprehension\n",
    "# plot sine wave from -pi to +pi with 20 points on graph"
   ]
  },
  {
   "cell_type": "code",
   "execution_count": 10,
   "metadata": {},
   "outputs": [
    {
     "data": {
      "image/png": "[encoded data removed]",
      "text/plain": [
       "<Figure size 432x288 with 1 Axes>"
      ]
     },
     "metadata": {},
     "output_type": "display_data"
    }
   ],
   "source": [
    "import matplotlib.pyplot as plt\n",
    "import numpy as np\n",
    "x=np.linspace(-np.pi,np.pi,20)\n",
    "y=np.sin(x)\n",
    "\n",
    "plt.plot(x,y)\n",
    "plt.show()"
   ]
  },
  {
   "cell_type": "code",
   "execution_count": 11,
   "metadata": {},
   "outputs": [
    {
     "name": "stdout",
     "output_type": "stream",
     "text": [
      "name:  Ahmed\n",
      "here's b\n"
     ]
    }
   ],
   "source": [
    "#Classes\n",
    "class a:\n",
    "    name=\"Null\"\n",
    "    def __init__(self,name):\n",
    "        self.name = name\n",
    "        \n",
    "    def printName(self):\n",
    "        print(\"name: \",self.name)\n",
    "        \n",
    "class b(a):\n",
    "    def showExtra(self):\n",
    "        print(\"here's b\")\n",
    "\n",
    "x= b(\"Ahmed\")\n",
    "x.printName()\n",
    "x.showExtra()"
   ]
  },
  {
   "cell_type": "code",
   "execution_count": 12,
   "metadata": {},
   "outputs": [
    {
     "data": {
      "text/plain": [
       "'\\nfor s in range(steps):\\n    new_state = get_neighbor(state)\\n    #evaluate cost\\n    #if new state is better go to it\\n    #else check acceptance prob\\n    #usually in start will be big numbers till values became very small\\n    elif np.exp(-(new_cost-cost)/temp) > random value:\\n        make new state is the current\\n'"
      ]
     },
     "execution_count": 12,
     "metadata": {},
     "output_type": "execute_result"
    }
   ],
   "source": [
    "#Simulated Annealing\n",
    "'''\n",
    "for s in range(steps):\n",
    "    new_state = get_neighbor(state)\n",
    "    #evaluate cost\n",
    "    #if new state is better go to it\n",
    "    #else check acceptance prob\n",
    "    #usually in start will be big numbers till values became very small\n",
    "    elif np.exp(-(new_cost-cost)/temp) > random value:\n",
    "        make new state is the current\n",
    "'''"
   ]
  },
  {
   "cell_type": "code",
   "execution_count": 13,
   "metadata": {},
   "outputs": [
    {
     "name": "stdout",
     "output_type": "stream",
     "text": [
      "[1 1 1 1 0]\n",
      "[1, 0, 1, 1, 1]\n"
     ]
    }
   ],
   "source": [
    "#GA initilization\n",
    "import numpy as np\n",
    "print(np.random.randint(0,2,size=5))\n",
    "\n",
    "#what about population?\n",
    "#list comprehension\n",
    "\n",
    "#crossover\n",
    "p1=[1,0,1,0,1]\n",
    "p2=[1,1,1,1,1]\n",
    "\n",
    "ch1=p1[:2]+p2[2:]\n",
    "print(ch1)"
   ]
  }
 ],
 "metadata": {
  "kernelspec": {
   "display_name": "Python 3",
   "language": "python",
   "name": "python3"
  },
  "language_info": {
   "codemirror_mode": {
    "name": "ipython",
    "version": 3
   },
   "file_extension": ".py",
   "mimetype": "text/x-python",
   "name": "python",
   "nbconvert_exporter": "python",
   "pygments_lexer": "ipython3",
   "version": "3.6.6"
  }
 },
 "nbformat": 4,
 "nbformat_minor": 2
}
